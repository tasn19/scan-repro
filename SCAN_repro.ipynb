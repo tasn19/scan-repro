{
  "nbformat": 4,
  "nbformat_minor": 0,
  "metadata": {
    "colab": {
      "name": "SCAN-repro.ipynb",
      "provenance": [],
      "toc_visible": true,
      "mount_file_id": "1xtaLtaf3Mm22T8YvkK-HSROeuHfbD4ox",
      "authorship_tag": "ABX9TyP5sxczi9BCsGm3/uF7w75C",
      "include_colab_link": true
    },
    "kernelspec": {
      "name": "python3",
      "display_name": "Python 3"
    },
    "language_info": {
      "name": "python"
    },
    "accelerator": "GPU"
  },
  "cells": [
    {
      "cell_type": "markdown",
      "metadata": {
        "id": "view-in-github",
        "colab_type": "text"
      },
      "source": [
        "<a href=\"https://colab.research.google.com/github/tasn19/scan-repro/blob/main/SCAN_repro.ipynb\" target=\"_parent\"><img src=\"https://colab.research.google.com/assets/colab-badge.svg\" alt=\"Open In Colab\"/></a>"
      ]
    },
    {
      "cell_type": "markdown",
      "metadata": {
        "id": "0UMY85hvEe33"
      },
      "source": [
        "# Setup"
      ]
    },
    {
      "cell_type": "markdown",
      "metadata": {
        "id": "TsXMJP70VxBG"
      },
      "source": [
        "Import setup files from github"
      ]
    },
    {
      "cell_type": "code",
      "metadata": {
        "id": "BeuKztZ2MX82"
      },
      "source": [
        "# Import setup files from github\n",
        "%%shell\n",
        "\n",
        "git clone https://github.com/tasn19/scan-repro.git\n",
        "cd setup\n",
        "git checkout v0.3.0\n",
        "\n",
        "cp utils.py ../\n",
        "cp dataset.py ../\n",
        "cp models.py ../\n",
        "cp criterion.py ../\n",
        "cp memorybank.py ../\n",
        "cp train.py ../"
      ],
      "execution_count": null,
      "outputs": []
    },
    {
      "cell_type": "markdown",
      "metadata": {
        "id": "FlI_fz_q8DYw"
      },
      "source": [
        "# Pretext Task"
      ]
    },
    {
      "cell_type": "code",
      "metadata": {
        "id": "ppX-TJtrNhuy"
      },
      "source": [
        "# Import all pretext stuff\n",
        "import torch\n",
        "import torchvision\n",
        "from dataset import CustomDataset\n",
        "from utils import get_transform, contrastive_evaluate\n",
        "from models import get_model\n",
        "from criterion import SimCLR_loss\n",
        "from memorybank import MemoryBank, fill_memory_bank\n",
        "from train import SimCLR_train\n"
      ],
      "execution_count": null,
      "outputs": []
    },
    {
      "cell_type": "code",
      "metadata": {
        "id": "g7hmpBu0ObK8"
      },
      "source": [
        "# Get transformations & datasets \n",
        "cifar_path = \"/content/drive/MyDrive/Colab Notebooks/SCANmaterials/Unsupervised-Classification/datasets/cifar10\"\n",
        "pretext_model_path = \"/content/drive/MyDrive/Colab Notebooks/SCANmaterials/Unsupervised-Classification/mymodels\"\n",
        "step = \"simclr\"\n",
        "featuresDim = 128\n",
        "numClasses = 10\n",
        "\n",
        "# Get transformations\n",
        "transform = get_transform(\"simclr\")\n",
        "base_transform = get_transform(\"base\") # FIX !!!!!\n",
        "val_transform = get_transform(\"validate\")\n",
        "\n",
        "# author code epochs = 500, batchsize = 512, num_workers = 8\n",
        "hyperparams = {\"epochs\": 20, \"batchsize\": 512, \"weight decay\": 0.0001, \"momentum\": 0.9, \"lr\": 0.4, \n",
        "                   \"lr decay rate\": 0.1, \"num_workers\": 8}\n",
        "\n",
        "# Load training set\n",
        "train1_set = torchvision.datasets.CIFAR10(root = cifar_path, train = True, transform = transform, download = False) # change to True\n",
        "train_set = CustomDataset(train1_set, step, base_transform = base_transform)\n",
        "# enable pin_memory to speed up host to device transfer\n",
        "# Probably highest possible batch_size=128 & num_workers=2 with memory limits CHECK\n",
        "train_loader = torch.utils.data.DataLoader(train_set, batch_size = hyperparams[\"batchsize\"], shuffle = True, \n",
        "                                           num_workers = hyperparams[\"num_workers\"], pin_memory = True, drop_last = True)\n",
        "\n",
        "# Load testing set\n",
        "test_set = torchvision.datasets.CIFAR10(root = cifar_path, transform = transform, download = False)\n",
        "test_loader = torch.utils.data.DataLoader(test_set, batch_size = hyperparams[\"batchsize\"], shuffle = False, \n",
        "                                          num_workers = hyperparams[\"num_workers\"], pin_memory = True, drop_last = False)\n"
      ],
      "execution_count": null,
      "outputs": []
    },
    {
      "cell_type": "code",
      "metadata": {
        "id": "rauSx19pPWYg"
      },
      "source": [
        "# For initial testing, take a small subset of dataset\n",
        "indices = torch.randperm(len(train_set)).tolist()\n",
        "expset = torch.utils.data.Subset(train_set, indices[:1000])\n",
        "expload = torch.utils.data.DataLoader(expset, batch_size = 512, shuffle = True, num_workers = 8,  pin_memory = True, drop_last = True)\n",
        "\n",
        "testexpset = torch.utils.data.Subset(test_set, indices[:1000])\n",
        "testexpload = torch.utils.data.DataLoader(testexpset, batch_size = 512, shuffle = False, num_workers = 8, pin_memory = True, drop_last = False)"
      ],
      "execution_count": null,
      "outputs": []
    },
    {
      "cell_type": "code",
      "metadata": {
        "id": "PbqIddxXcKn9",
        "colab": {
          "base_uri": "https://localhost:8080/"
        },
        "outputId": "834cce1c-dd79-490d-ce4b-9baba567b5bd"
      },
      "source": [
        "# Instantiate model\n",
        "model = get_model(step)\n",
        "model.cuda()\n",
        "\n",
        "# Get criterion\n",
        "criterion = SimCLR_loss(hyperparams[\"batchsize\"])\n",
        "criterion.cuda()"
      ],
      "execution_count": null,
      "outputs": [
        {
          "output_type": "execute_result",
          "data": {
            "text/plain": [
              "SimCLR_loss()"
            ]
          },
          "metadata": {
            "tags": []
          },
          "execution_count": 4
        }
      ]
    },
    {
      "cell_type": "code",
      "metadata": {
        "id": "mI8xt66oPC-y"
      },
      "source": [
        "# Build memory bank\n",
        "# use dataset without augmentations for knn evaluation CHECK\n",
        "base_dataset = torchvision.datasets.CIFAR10(root= cifar_path, train=True, transform=val_transform, download=True)\n",
        "# subset\n",
        "base_dataset = torch.utils.data.Subset(base_dataset, indices[:1000]) # remove\n",
        "base_loader = torch.utils.data.DataLoader(base_dataset, batch_size = hyperparams[\"batchsize\"], shuffle = False, \n",
        "                                          num_workers = hyperparams[\"num_workers\"], pin_memory = True)\n",
        "base_memorybank = MemoryBank(len(base_dataset), featuresDim, numClasses, temperature = 0.1)\n",
        "base_memorybank.cuda()\n",
        "test_memorybank = MemoryBank(len(testexpset), featuresDim, numClasses, temperature = 0.1) # change testexpset to test_set\n",
        "test_memorybank.cuda()\n"
      ],
      "execution_count": null,
      "outputs": []
    },
    {
      "cell_type": "code",
      "metadata": {
        "id": "uYQIiMQ27-30"
      },
      "source": [
        "lr = 0.4\n",
        "decay_rate = 0.1\n",
        "epochs = hyperparams[\"epochs\"]\n",
        "# Instantiate SGD?? optimizer # original paper used LARS...\n",
        "#params = [p for p in model.parameters() if p.requires_grad] # CHECK THIS\n",
        "params = model.parameters()\n",
        "optimizer = torch.optim.SGD(params, lr, momentum=0.9, weight_decay=0.0001, nesterov=False)\n",
        "scheduler = torch.optim.lr_scheduler.CosineAnnealingLR(optimizer, T_max=epochs, eta_min=(lr*(decay_rate**3)))\n",
        "\n",
        "# Checkpoint - use paper code\n",
        "\n",
        "# Train model\n",
        "# add warm-up? (to reduce effect of early training)\n",
        "for epoch in range(epochs):\n",
        "  print('Epoch ', epoch)\n",
        "  # Update scheduler (it resets every epoch)\n",
        "  scheduler.step()\n",
        "  lr = scheduler.get_last_lr()[0]\n",
        "  #scheduler = torch.optim.lr_scheduler.CosineAnnealingLR(optimizer, T_max=epochs, eta_min=(lr*(decay_rate**3)))\n",
        "  \n",
        "  print('Learning Rate ', lr)\n",
        "\n",
        "  # Train\n",
        "  SimCLR_train(expload, model, epoch, criterion, optimizer) # change expload to train_loader\n",
        "  print(\"SimCLR train complete\")\n",
        "\n",
        "  # Fill memory bank for knn step  \n",
        "  fill_memory_bank(base_loader, model, base_memorybank)\n",
        "\n",
        "  # Check progress\n",
        "  print(\"Evaluating\")\n",
        "  top1 = contrastive_evaluate(testexpload, model, base_memorybank) # change testexpload to test_loader\n",
        "  print('Result of kNN evaluation is %.2f' %(top1)) \n",
        "\n",
        "  # checkpoint \n",
        "\n",
        "# Save model\n",
        "#torch.save(model.state_dict(), my_model_path)\n"
      ],
      "execution_count": null,
      "outputs": []
    },
    {
      "cell_type": "markdown",
      "metadata": {
        "id": "0ACOauZ_Pq5g"
      },
      "source": [
        "Mine the top 20 nearest neighbors to pass on to SCAN step"
      ]
    },
    {
      "cell_type": "code",
      "metadata": {
        "id": "qlYpr3MCs7nq"
      },
      "source": [
        "k = 20\n",
        "fill_memory_bank(base_loader, model, base_memorybank)\n",
        "train_indices, accuracy = base_memorybank.mine_nearest_neighbors(k)\n",
        "print('Accuracy of top-%d nearest neighbors on train set is %.2f' %(k, 100*accuracy))\n",
        "    #np.save(p['topk_neighbors_train_path'], indices)   "
      ],
      "execution_count": null,
      "outputs": []
    },
    {
      "cell_type": "markdown",
      "metadata": {
        "id": "2Bsztoe4Pv9h"
      },
      "source": [
        "Mine the top 5 neighbors for validation"
      ]
    },
    {
      "cell_type": "code",
      "metadata": {
        "id": "3v9nkFrO9hQr"
      },
      "source": [
        "fill_memory_bank(test_loader, model, test_memorybank)\n",
        "k = 5\n",
        "test_indices, accuracy = test_memorybank.mine_nearest_neighbors(k)\n",
        "print('Accuracy of top-%d nearest neighbors on test set is %.2f' %(k, 100*acc))\n",
        "    #np.save(p['topk_neighbors_val_path'], indices)   "
      ],
      "execution_count": null,
      "outputs": []
    },
    {
      "cell_type": "markdown",
      "metadata": {
        "id": "jJ5aDL4FWEU6"
      },
      "source": [
        "# SCAN"
      ]
    },
    {
      "cell_type": "code",
      "metadata": {
        "id": "K51Ie6J3WHjg"
      },
      "source": [
        ""
      ],
      "execution_count": null,
      "outputs": []
    }
  ]
}