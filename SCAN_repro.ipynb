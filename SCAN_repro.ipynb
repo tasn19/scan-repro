{
  "nbformat": 4,
  "nbformat_minor": 0,
  "metadata": {
    "colab": {
      "name": "SCAN-repro.ipynb",
      "provenance": [],
      "mount_file_id": "1xtaLtaf3Mm22T8YvkK-HSROeuHfbD4ox",
      "authorship_tag": "ABX9TyOfAL+PIPOxljC6itRsyQUR",
      "include_colab_link": true
    },
    "kernelspec": {
      "name": "python3",
      "display_name": "Python 3"
    },
    "language_info": {
      "name": "python"
    },
    "accelerator": "GPU"
  },
  "cells": [
    {
      "cell_type": "markdown",
      "metadata": {
        "id": "view-in-github",
        "colab_type": "text"
      },
      "source": [
        "<a href=\"https://colab.research.google.com/github/tasn19/scan-repro/blob/main/SCAN_repro.ipynb\" target=\"_parent\"><img src=\"https://colab.research.google.com/assets/colab-badge.svg\" alt=\"Open In Colab\"/></a>"
      ]
    },
    {
      "cell_type": "markdown",
      "metadata": {
        "id": "0UMY85hvEe33"
      },
      "source": [
        "# Setup"
      ]
    },
    {
      "cell_type": "markdown",
      "metadata": {
        "id": "TsXMJP70VxBG"
      },
      "source": [
        "Import setup files from github"
      ]
    },
    {
      "cell_type": "code",
      "metadata": {
        "id": "BeuKztZ2MX82"
      },
      "source": [
        "# Import setup files from github\n",
        "%%shell\n",
        "\n",
        "git clone https://github.com/tasn19/scan-repro.git\n",
        "cd setup\n",
        "git checkout v0.3.0\n",
        "\n",
        "cp utils.py ../\n",
        "cp dataset.py ../\n",
        "cp models.py ../\n",
        "cp criterion.py ../\n",
        "cp memorybank.py ../\n",
        "cp train.py ../"
      ],
      "execution_count": null,
      "outputs": []
    },
    {
      "cell_type": "code",
      "metadata": {
        "id": "MyjfxWLR0VAQ"
      },
      "source": [
        "# import libraries common to all tasks\n",
        "import torch\n",
        "import torchvision\n",
        "from utils import get_transform\n",
        "from models import get_model"
      ],
      "execution_count": null,
      "outputs": []
    },
    {
      "cell_type": "code",
      "metadata": {
        "id": "Oj8Sa0gH2u_k"
      },
      "source": [
        "# Set path to store dataset, models, checkpoints, etc.\n",
        "base_path = \"/content/drive/MyDrive/Colab Notebooks/SCANmaterials/Unsupervised-Classification/\"\n",
        "cifar_path = base_path + \"datasets/cifar10\""
      ],
      "execution_count": null,
      "outputs": []
    },
    {
      "cell_type": "markdown",
      "metadata": {
        "id": "FlI_fz_q8DYw"
      },
      "source": [
        "# Pretext Task"
      ]
    },
    {
      "cell_type": "code",
      "metadata": {
        "id": "ppX-TJtrNhuy"
      },
      "source": [
        "# Import all pretext stuff\n",
        "from dataset import CustomDataset\n",
        "from utils import contrastive_evaluate\n",
        "from criterion import SimCLR_loss\n",
        "from memorybank import MemoryBank, fill_memory_bank\n",
        "from train import SimCLR_train\n"
      ],
      "execution_count": null,
      "outputs": []
    },
    {
      "cell_type": "code",
      "metadata": {
        "id": "V568DUJlI_uX"
      },
      "source": [
        "!pip install faiss-gpu # needed for mine_nearest_neighbors -> Memory Bank"
      ],
      "execution_count": null,
      "outputs": []
    },
    {
      "cell_type": "code",
      "metadata": {
        "id": "hi3HwlnOJd4Q"
      },
      "source": [
        "# Set paths to store files\n",
        "pretext_model_path = base_path + \"mymodels/simclrmodel.pth.tar\"\n",
        "checkpoint_path = base_path + \"mymodels/pretext_checkpoint.pth.tar\"\n",
        "knn_train_path = base_path + \"mymodels/knn_train.npy\"\n",
        "knn_test_path = base_path + \"mymodels/knn_test.npy\""
      ],
      "execution_count": null,
      "outputs": []
    },
    {
      "cell_type": "code",
      "metadata": {
        "id": "g7hmpBu0ObK8"
      },
      "source": [
        "# Get transformations & datasets \n",
        "step = \"simclr\"\n",
        "featuresDim = 128\n",
        "numClasses = 10\n",
        "\n",
        "# Get transformations\n",
        "transform = get_transform(\"simclr\")\n",
        "base_transform = get_transform(\"base\") \n",
        "val_transform = get_transform(\"validate\")\n",
        "\n",
        "hyperparams = {\"epochs\": 500, \"batchsize\": 512, \"weight decay\": 0.0001, \"momentum\": 0.9, \"lr\": 0.4, \n",
        "                   \"lr decay rate\": 0.1, \"num_workers\": 8}\n",
        "\n",
        "# Load training set\n",
        "train1_set = torchvision.datasets.CIFAR10(root = cifar_path, train = True, transform = transform, download = False) # change to True\n",
        "train_set = CustomDataset(train1_set, step, base_transform = base_transform)\n",
        "\n",
        "# For initial testing, take a small subset of dataset\n",
        "#indices = torch.randperm(len(train_set)).tolist() # INITIAL TESTING\n",
        "#train_set = torch.utils.data.Subset(train_set, indices[:1000]) # INITIAL TESTING\n",
        "\n",
        "# enable pin_memory to speed up host to device transfer\n",
        "train_loader = torch.utils.data.DataLoader(train_set, batch_size = hyperparams[\"batchsize\"], shuffle = True, \n",
        "                                           num_workers = hyperparams[\"num_workers\"], pin_memory = True, drop_last = True)\n",
        "\n",
        "# Load testing set\n",
        "test_set = torchvision.datasets.CIFAR10(root = cifar_path, transform = transform, download = False)\n",
        "#test_set = torch.utils.data.Subset(test_set, indices[:1000]) # INITIAL TESTING\n",
        "test_loader = torch.utils.data.DataLoader(test_set, batch_size = hyperparams[\"batchsize\"], shuffle = False, \n",
        "                                          num_workers = hyperparams[\"num_workers\"], pin_memory = True, drop_last = False)\n"
      ],
      "execution_count": null,
      "outputs": []
    },
    {
      "cell_type": "code",
      "metadata": {
        "id": "PbqIddxXcKn9"
      },
      "source": [
        "# Instantiate model\n",
        "model = get_model(step)\n",
        "model.cuda()\n",
        "torch.backends.cudnn.benchmark = True # without this, memory error during knn mining\n",
        "\n",
        "# Get criterion\n",
        "criterion = SimCLR_loss(hyperparams[\"batchsize\"])\n",
        "criterion.cuda()"
      ],
      "execution_count": null,
      "outputs": []
    },
    {
      "cell_type": "code",
      "metadata": {
        "id": "mI8xt66oPC-y"
      },
      "source": [
        "# Build memory bank\n",
        "# use dataset without augmentations for knn evaluation CHECK\n",
        "base_dataset = torchvision.datasets.CIFAR10(root= cifar_path, train=True, transform=val_transform, download=True)\n",
        "# subset\n",
        "#base_dataset = torch.utils.data.Subset(base_dataset, indices[:1000]) # INITIAL TEST\n",
        "base_loader = torch.utils.data.DataLoader(base_dataset, batch_size = hyperparams[\"batchsize\"], shuffle = False, \n",
        "                                          num_workers = hyperparams[\"num_workers\"], pin_memory = True)\n",
        "base_memorybank = MemoryBank(len(base_dataset), featuresDim, numClasses, temperature = 0.1)\n",
        "base_memorybank.cuda()\n",
        "test_memorybank = MemoryBank(len(test_set), featuresDim, numClasses, temperature = 0.1) \n",
        "test_memorybank.cuda()\n"
      ],
      "execution_count": null,
      "outputs": []
    },
    {
      "cell_type": "code",
      "metadata": {
        "id": "uYQIiMQ27-30"
      },
      "source": [
        "epochs = hyperparams[\"epochs\"]\n",
        "lr = hyperparams[\"lr\"]\n",
        "lr_decay_rate = hyperparams[\"lr decay rate\"]\n",
        "\n",
        "# Instantiate SGD?? optimizer # original paper used LARS...\n",
        "params = model.parameters()\n",
        "optimizer = torch.optim.SGD(params, lr, momentum=0.9, weight_decay=0.0001, nesterov=False)\n",
        "scheduler = torch.optim.lr_scheduler.CosineAnnealingLR(optimizer, T_max=epochs, eta_min=(lr*(lr_decay_rate**3)))\n",
        "\n",
        "# Load checkpoint\n",
        "if os.path.exists(checkpoint_path):\n",
        "  print(\"Loading checkpoint\")\n",
        "  checkpoint = torch.load(checkpoint_path)\n",
        "  model.load_state_dict(checkpoint['model_state_dict'])\n",
        "  model.cuda()\n",
        "  optimizer.load_state_dict(checkpoint['optimizer_state_dict'])\n",
        "  startE = checkpoint['epoch']\n",
        "else:\n",
        "  startE = 0\n",
        "\n",
        "# Train model\n",
        "# add warm-up? (to reduce effect of early training)\n",
        "for epoch in range(epochs):\n",
        "  print('Epoch ', epoch)\n",
        "  # Update scheduler (it resets every epoch)\n",
        "  scheduler.step()\n",
        "  lr = scheduler.get_last_lr()[0]\n",
        "  #scheduler = torch.optim.lr_scheduler.CosineAnnealingLR(optimizer, T_max=epochs, eta_min=(lr*(decay_rate**3)))\n",
        "  \n",
        "  print('Learning Rate ', lr)\n",
        "\n",
        "  # Train\n",
        "  SimCLR_train(train_loader, model, epoch, criterion, optimizer)\n",
        "  print(\"SimCLR train complete\")\n",
        "\n",
        "  # Fill memory bank for knn step  \n",
        "  fill_memory_bank(base_loader, model, base_memorybank)\n",
        "\n",
        "  # Check progress\n",
        "  print(\"Evaluating\")\n",
        "  top1 = contrastive_evaluate(test_loader, model, base_memorybank)\n",
        "  print('Result of kNN evaluation is %.2f' %(top1)) \n",
        "\n",
        "  # Save checkpoint\n",
        "  torch.save({'epoch': epoch,\n",
        "              'model_state_dict': model.state_dict(),\n",
        "              'optimizer_state_dict': optimizer.state_dict()}, checkpoint_path)\n",
        "\n",
        "# Save model\n",
        "torch.save(model.state_dict(), my_model_path)\n"
      ],
      "execution_count": null,
      "outputs": []
    },
    {
      "cell_type": "markdown",
      "metadata": {
        "id": "0ACOauZ_Pq5g"
      },
      "source": [
        "Mine the top 20 nearest neighbors to pass on to SCAN step"
      ]
    },
    {
      "cell_type": "code",
      "metadata": {
        "id": "qlYpr3MCs7nq"
      },
      "source": [
        "k = 20\n",
        "fill_memory_bank(base_loader, model, base_memorybank)\n",
        "train_indices, accuracy = base_memorybank.mine_nearest_neighbors(k)\n",
        "print('Accuracy of top-%d nearest neighbors on train set is %.2f' %(k, 100*accuracy))\n",
        "# save positions of nearest neighbors\n",
        "np.save(knn_train_path, train_indices)   "
      ],
      "execution_count": null,
      "outputs": []
    },
    {
      "cell_type": "markdown",
      "metadata": {
        "id": "2Bsztoe4Pv9h"
      },
      "source": [
        "Mine the top 5 neighbors for validation"
      ]
    },
    {
      "cell_type": "code",
      "metadata": {
        "id": "3v9nkFrO9hQr"
      },
      "source": [
        "fill_memory_bank(test_loader, model, test_memorybank)\n",
        "k = 5\n",
        "test_indices, accuracy = test_memorybank.mine_nearest_neighbors(k)\n",
        "print('Accuracy of top-%d nearest neighbors on test set is %.2f' %(k, 100*acc))\n",
        "# save positions of nearest neighbors\n",
        "np.save(knn_test_path, test_indices)  "
      ],
      "execution_count": null,
      "outputs": []
    },
    {
      "cell_type": "markdown",
      "metadata": {
        "id": "jJ5aDL4FWEU6"
      },
      "source": [
        "# SCAN\n",
        "\n",
        "Classify images with semantically meaningful nearest neighbors (found in pretext task) together"
      ]
    },
    {
      "cell_type": "code",
      "metadata": {
        "id": "K51Ie6J3WHjg"
      },
      "source": [
        "# Import all SCAN stuff\n",
        "from dataset import NNDataset\n",
        "from utils import get_predictions, SCAN_evaluate, hungarian_evaluate\n",
        "from criterion import SCAN_loss\n",
        "from train import SCAN_train"
      ],
      "execution_count": null,
      "outputs": []
    },
    {
      "cell_type": "code",
      "metadata": {
        "id": "jwQ8j6xTnqtd"
      },
      "source": [
        "# Download from github - additional augmentation functions\n",
        "!wget https://raw.githubusercontent.com/wvangansbeke/Unsupervised-Classification/master/data/augment.py"
      ],
      "execution_count": null,
      "outputs": []
    },
    {
      "cell_type": "code",
      "metadata": {
        "id": "Cxfu_HA1KNc3"
      },
      "source": [
        "# Set paths to store files\n",
        "SCAN_model_path = base_path + \"mymodels/scanmodel.pth.tar\"\n",
        "checkpoint_path_scan = base_path + \"mymodels/checkpoint_scan.pth.tar\"\n",
        "cifar_path = base_path + \"datasets/cifar10\"\n",
        "knn_train_path = base_path + \"mymodels/knn_train.npy\""
      ],
      "execution_count": null,
      "outputs": []
    },
    {
      "cell_type": "code",
      "metadata": {
        "id": "OSYD66oCKVbs"
      },
      "source": [
        "step2 = \"scan\"\n",
        "scan_hyperparams = {\"epochs\": 20, \"batchsize\": 128, \"lr\": 0.0001, \"weight decay\": 0.0001, \"num_workers\": 8}\n",
        "classes = ['plane', 'car', 'bird', 'cat', 'deer', 'dog', 'frog', 'horse', 'ship', 'truck']\n",
        "\n",
        "# Get transformations\n",
        "scan_transforms = get_transform(step2)\n",
        "base_transform = get_transform(\"base\") \n",
        "# val_transforms is the same as simclr \n",
        "val_transform = get_transform(\"validate\")\n",
        "\n",
        "# Load training set\n",
        "train1_set_scan = torchvision.datasets.CIFAR10(root = cifar_path, train = True, transform = scan_transforms, download = False) # change to True\n",
        "knn_indices = np.load(knn_train_path)\n",
        "train_set_scan = NNDataset(train1_set_scan, knn_indices, numNeighbors=20, step=step2, base_transform = base_transform)\n",
        "indices1 = torch.randperm(len(train_set_scan)).tolist()  # INITIAL TESTING\n",
        "train_set_scan = torch.utils.data.Subset(train_set_scan, indices1[:1000]) # INITIAL TESTING\n",
        "train_loader_scan = torch.utils.data.DataLoader(train_set_scan, batch_size = scan_hyperparams[\"batchsize\"], shuffle = True, \n",
        "                                           num_workers = scan_hyperparams[\"num_workers\"], pin_memory = True, drop_last = True)\n",
        "\n",
        "# Load testing set\n",
        "test1_set_scan = torchvision.datasets.CIFAR10(root = cifar_path, train = False, transform = val_transform, download = False)\n",
        "knn_test_indices = np.load(knn_test_path) \n",
        "knn_test_indices = np.reshape(knn_test_indices, (-1,20))\n",
        "test_set_scan = NNDataset(test1_set_scan, knn_test_indices, numNeighbors=5, step=step2, base_transform = base_transform)\n",
        "test_set_scan = torch.utils.data.Subset(test_set_scan, indices1[:1000]) # INITIAL TESTING\n",
        "test_loader_scan = torch.utils.data.DataLoader(test_set_scan, batch_size = scan_hyperparams[\"batchsize\"], shuffle = False, \n",
        "                                          num_workers = scan_hyperparams[\"num_workers\"], pin_memory = True, drop_last = False)"
      ],
      "execution_count": null,
      "outputs": []
    },
    {
      "cell_type": "code",
      "metadata": {
        "id": "ZCtzSDKhKr9_"
      },
      "source": [
        "# Set device to cuda if cuda is available\n",
        "device = torch.device(\"cuda\" if torch.cuda.is_available() else \"cpu\")\n",
        "\n",
        "# Instantiate model\n",
        "model = get_model(step2, pretrained_weights=None, numClasses=10) \n",
        "model.to(device)\n",
        "\n",
        "# Get criterion\n",
        "criterion = SCAN_loss(entropy_weight = 5)\n",
        "criterion.to(device)"
      ],
      "execution_count": null,
      "outputs": []
    },
    {
      "cell_type": "code",
      "metadata": {
        "id": "wRKwBFl1TeV2"
      },
      "source": [
        "# Optimizer\n",
        "params = model.parameters()\n",
        "optimizer = torch.optim.Adam(params, lr=scan_hyperparams[\"lr\"], weight_decay=scan_hyperparams[\"weight decay\"])\n",
        "# use constant learning rate\n",
        "\n",
        "# Load checkpoint\n",
        "if os.path.exists(checkpoint_path_scan):\n",
        "  print(\"Loading checkpoint\")\n",
        "  checkpoint = torch.load(checkpoint_path_scan)\n",
        "  model.load_state_dict(checkpoint['model_state_dict'])\n",
        "  model.cuda()\n",
        "  optimizer.load_state_dict(checkpoint['optimizer_state_dict'])\n",
        "  startE = checkpoint['epoch']\n",
        "  best_loss = checkpoint['best_loss']\n",
        "else:\n",
        "  startE = 0\n",
        "  best_loss = 1e4\n",
        "\n",
        "# Train\n",
        "epochs = scan_hyperparams[\"epochs\"]\n",
        "for epoch in range(startE, epochs):\n",
        "  print('Epoch ', epoch)\n",
        "\n",
        "  # Train\n",
        "  SCAN_train(train_loader_scan, model, epoch, criterion, optimizer) \n",
        "  print(\"SCAN training complete\")\n",
        "\n",
        "  # Evaluate\n",
        "  print(\"Evaluating\")\n",
        "  lowest_loss = SCAN_evaluate(test_loader_scan, model)\n",
        "  print('loss', lowest_loss)\n",
        "  \n",
        "  if lowest_loss < best_loss:\n",
        "    print(\"New lowest loss: {}, previous lowest: {}\".format(lowest_loss, best_loss))\n",
        "    best_loss = lowest_loss\n",
        "    #torch.save(model.state_dict(), SCAN_model_path)\n",
        "\n",
        "  print('Evaluate with hungarian matching algorithm ...')\n",
        "  # Check progress\n",
        "  predictions = get_predictions(test_loader_scan, model)\n",
        "  stats = hungarian_evaluate(predictions, compute_confusion_matrix=False)\n",
        "  print(stats)\n",
        "  \n",
        "  # Save checkpoint\n",
        "  torch.save({'epoch': epoch,\n",
        "              'model_state_dict': model.state_dict(),\n",
        "              'optimizer_state_dict': optimizer.state_dict(),\n",
        "              'best_loss': best_loss}, checkpoint_path_scan)\n",
        "\n",
        "# Evaluate best model with hungarian matching algorithm\n",
        "#model.load_state_dict(torch.load(SCAN_model_path)\n",
        "predictions = get_predictions(test_loader_scan, model)\n",
        "clustering_stats = hungarian_evaluate(predictions, class_names=classes, compute_confusion_matrix=True)\n",
        "print(clustering_stats) \n"
      ],
      "execution_count": null,
      "outputs": []
    },
    {
      "cell_type": "markdown",
      "metadata": {
        "id": "lxM2QefVTsQ6"
      },
      "source": [
        "# Self-label\n",
        "\n",
        "Fine-tune to correct labelling mistakes due to noisy nearest neighbors"
      ]
    },
    {
      "cell_type": "code",
      "metadata": {
        "id": "PccecyXUUBNa"
      },
      "source": [
        "# Import self-label stuff\n",
        "from dataset import CustomDataset\n",
        "from utils import get_predictions, hungarian_evaluate\n",
        "from criterion import CE_loss\n",
        "from train import selflabel_train"
      ],
      "execution_count": null,
      "outputs": []
    },
    {
      "cell_type": "code",
      "metadata": {
        "id": "bUqjuzQCUOBU"
      },
      "source": [
        "# Set paths to store files\n",
        "cifar_path = base_path + \"datasets/cifar10\"\n",
        "selflabel_model_path = base_path + \"mymodels/selflabelmodel\"\n",
        "checkpoint_path_slbl = base_path + \"mymodels/checkpoint_slbl\""
      ],
      "execution_count": null,
      "outputs": []
    },
    {
      "cell_type": "code",
      "metadata": {
        "id": "kSidlcBaUTHw"
      },
      "source": [
        "step3 = 'selflabel'\n",
        "\n",
        "#slbl_hyperparams = {\"epochs\": 200, \"batchsize\": 1000, \"lr\": 0.0001, \"weight decay\": 0.0001, \"num_workers\": 8} # ORIGINAL\n",
        "slbl_hyperparams = {\"epochs\": 10, \"batchsize\": 512, \"lr\": 0.0001, \"weight decay\": 0.0001, \"num_workers\": 8}\n",
        "\n",
        "classes = ['plane', 'car', 'bird', 'cat', 'deer', 'dog', 'frog', 'horse', 'ship', 'truck']\n",
        "\n",
        "# Get transformations - same as SCAN step\n",
        "slbl_transforms = get_transform('scan')\n",
        "base_transform = get_transform(\"base\") # FIX !!!!!\n",
        "# val_transforms is the same as simclr \n",
        "val_transform = get_transform(\"validate\")\n",
        "\n",
        "# Get datasets\n",
        "# Load training set\n",
        "# CHECK: paper code using 'standard':val_transforms\n",
        "train1_set_slbl = torchvision.datasets.CIFAR10(root = cifar_path, train = True, transform = slbl_transforms, download = False) # change to True\n",
        "train_set_slbl = CustomDataset(train1_set_slbl, step=step3, base_transform = base_transform)\n",
        "indices1 = torch.randperm(1000).tolist()  # INITIAL TESTING \n",
        "train_set_slbl = torch.utils.data.Subset(train_set_slbl, indices1[:1000]) # INITIAL TESTING\n",
        "train_loader_slbl = torch.utils.data.DataLoader(train_set_slbl, batch_size = slbl_hyperparams[\"batchsize\"], shuffle = True, \n",
        "                                           num_workers = slbl_hyperparams[\"num_workers\"], pin_memory = True, drop_last = True)\n",
        "\n",
        "# Load testing set\n",
        "test1_set_slbl = torchvision.datasets.CIFAR10(root = cifar_path, train = False, transform = val_transform, download = False)\n",
        "test_set_slbl = torch.utils.data.Subset(test1_set_slbl, indices1[:1000]) # INITIAL TESTING\n",
        "test_loader_slbl = torch.utils.data.DataLoader(test_set_slbl, batch_size = slbl_hyperparams[\"batchsize\"], shuffle = False, \n",
        "                                          num_workers = slbl_hyperparams[\"num_workers\"], pin_memory = True, drop_last = False)\n"
      ],
      "execution_count": null,
      "outputs": []
    },
    {
      "cell_type": "code",
      "metadata": {
        "id": "nkgn7lj-UYwZ"
      },
      "source": [
        "# Set device to cuda if cuda is available\n",
        "device = torch.device(\"cuda\" if torch.cuda.is_available() else \"cpu\")\n",
        "\n",
        "# Instantiate model\n",
        "model = get_model(step3, pretrained_weights=None, numClasses=10) # change to pretrained_weight=SCAN_model_path\n",
        "model.to(device) # does it work with CPU? CHECK\n",
        "torch.backends.cudnn.benchmark = True # need to avoid memory errors\n",
        "\n",
        "# cudnn\n",
        "# Get criterion\n",
        "# weighted cross entropy loss used to update weights for obtaining pseudolabels, to compensate for imbalance btwn confident samples across clusters\n",
        "criterion = CE_loss(threshold=0.99) \n",
        "criterion.to(device)"
      ],
      "execution_count": null,
      "outputs": []
    },
    {
      "cell_type": "code",
      "metadata": {
        "id": "acApliraUw90"
      },
      "source": [
        "# Optimizer\n",
        "params = model.parameters()\n",
        "optimizer = torch.optim.Adam(params, lr=slbl_hyperparams[\"lr\"], weight_decay=slbl_hyperparams[\"weight decay\"])\n",
        "# use constant learning rate\n",
        "\n",
        "# Load checkpoint\n",
        "if os.path.exists(checkpoint_path_slbl):\n",
        "  print(\"Loading checkpoint\")\n",
        "  checkpoint = torch.load(checkpoint_path_slbl)\n",
        "  model.load_state_dict(checkpoint['model_state_dict'])\n",
        "  model.cuda()\n",
        "  optimizer.load_state_dict(checkpoint['optimizer_state_dict'])\n",
        "  startE = checkpoint['epoch']\n",
        "else:\n",
        "  startE = 0\n",
        "\n",
        "# Train\n",
        "epochs = slbl_hyperparams[\"epochs\"]\n",
        "for epoch in range(epochs):\n",
        "  print('Epoch ', epoch)\n",
        "\n",
        "  # Train\n",
        "  selflabel_train(train_loader_slbl, model, epoch, criterion, optimizer)  \n",
        "  print(\"Self-label training complete\")\n",
        "\n",
        "  # Check progress\n",
        "  print(\"Evaluating with hungarian matching algorithm\")\n",
        "  predictions = get_predictions_slbl(test_loader_slbl, model) \n",
        "\n",
        "  stats = hungarian_evaluate(predictions, compute_confusion_matrix=False)\n",
        "  print(stats)\n",
        "  \n",
        "  # Save checkpoint\n",
        "  torch.save({'epoch': epoch,\n",
        "              'model_state_dict': model.state_dict(),\n",
        "              'optimizer_state_dict': optimizer.state_dict()}, checkpoint_path_slbl)\n",
        "\n",
        "# Final Evaluation\n",
        "print(\"Evaluating final model\")\n",
        "predictions = get_predictions_slbl(test_loader_slbl, model)\n",
        "clustering_stats = hungarian_evaluate(subhead_index, predictions, class_names=classes, \n",
        "                            compute_confusion_matrix=True)\n",
        "print(clustering_stats) \n",
        "\n",
        "# Save model\n",
        "torch.save(model.state_dict(), selflabel_model_path)"
      ],
      "execution_count": null,
      "outputs": []
    }
  ]
}